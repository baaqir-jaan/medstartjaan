{
 "cells": [
  {
   "cell_type": "code",
   "execution_count": null,
   "metadata": {},
   "outputs": [
    {
     "ename": "",
     "evalue": "",
     "output_type": "error",
     "traceback": [
      "\u001b[1;31mRunning cells with 'Python 3.12.3' requires the ipykernel package.\n",
      "\u001b[1;31mRun the following command to install 'ipykernel' into the Python environment. \n",
      "\u001b[1;31mCommand: '/opt/homebrew/bin/python3 -m pip install ipykernel -U --user --force-reinstall'"
     ]
    }
   ],
   "source": [
    "import requests\n",
    "import pandas as pd\n",
    "\n",
    "# Step 4: Define the API URL and Parameters\n",
    "api_url = \"https://data.cms.gov/data-api/api_endpoint_here\"\n",
    "params = {\n",
    "    \"query\": \"your_query_here\",  # Modify this according to the API documentation\n",
    "    \"limit\": 100  # Number of records to fetch per request\n",
    "}\n",
    "\n",
    "# Step 5: Send the API Request\n",
    "response = requests.get(api_url, params=params)\n",
    "if response.status_code == 200:\n",
    "    data = response.json()  # Parse the JSON data\n",
    "else:\n",
    "    print(\"Error:\", response.status_code)\n",
    "\n",
    "# Step 6: Extract Relevant Data\n",
    "# Assuming the data is in a list of dictionaries format\n",
    "records = []\n",
    "for item in data['records']:\n",
    "    records.append({\n",
    "        'NPI': item.get('Rndrng_NPI'),\n",
    "        'First Name': item.get('Rndrng_Prvdr_First_Name'),\n",
    "        'Last Name': item.get('Rndrng_Prvdr_Last_Org_Name'),\n",
    "        'Tot_Benes': item.get('Tot_Benes'),\n",
    "        'Tot_Mdcr_Alowd_Amt': item.get('Tot_Mdcr_Alowd_Amt')\n",
    "    })\n",
    "\n",
    "# Step 7: Store Data in a CSV File\n",
    "df = pd.DataFrame(records)\n",
    "df.to_csv('cms_data.csv', index=False)\n",
    "print(\"Data saved to cms_data.csv\")\n"
   ]
  }
 ],
 "metadata": {
  "kernelspec": {
   "display_name": "Python 3",
   "language": "python",
   "name": "python3"
  },
  "language_info": {
   "name": "python",
   "version": "3.12.3"
  }
 },
 "nbformat": 4,
 "nbformat_minor": 2
}
